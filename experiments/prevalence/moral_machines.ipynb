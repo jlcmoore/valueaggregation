{
 "cells": [
  {
   "cell_type": "markdown",
   "id": "f9db5335-122e-4657-8301-f23043ac0d22",
   "metadata": {},
   "source": [
    "## Here we demonstrate how to turn the Moral Machines data into the structure of our games."
   ]
  },
  {
   "cell_type": "code",
   "execution_count": 4,
   "id": "04763541",
   "metadata": {},
   "outputs": [],
   "source": [
    "import pandas as pd\n",
    "from scipy import stats"
   ]
  },
  {
   "cell_type": "markdown",
   "id": "5d5d1c90-7712-4473-a96c-ad292db2d918",
   "metadata": {},
   "source": [
    "### Load in the Moral Machines Stats on Each Country"
   ]
  },
  {
   "cell_type": "code",
   "execution_count": 18,
   "id": "31280c57-7e38-4c45-b5df-eab2077ebb37",
   "metadata": {},
   "outputs": [],
   "source": [
    "mm_countries_df = pd.read_csv('../../external_data/moral_machines/CountriesChangePr.csv')\n",
    "mm_countries_df.columns\n",
    "mm_countries_df = mm_countries_df.rename(columns={'Unnamed: 0' : 'ISO3_code'})\n",
    "mm_countries_df\n",
    "categories = ['[Omission -> Commission]', \n",
    "'[Passengers -> Pedestrians]', \n",
    "'Law [Illegal -> Legal]', \n",
    "'Gender [Male -> Female]', \n",
    "'Fitness [Large -> Fit]', \n",
    "'Social Status [Low -> High]', \n",
    "'Age [Elderly -> Young]', \n",
    "'No. Characters [Less -> More]', \n",
    "'Species [Pets -> Humans]']\n",
    "se_str = \": se\"\n",
    "est_str = \": Estimates\"\n",
    "\n",
    "queries = [f'`{cat + se_str}` < .05' for cat in categories]\n",
    "query_str = ' & '.join(queries)\n",
    "mm_countries_sig = mm_countries_df.query(query_str)\n",
    "\n",
    "# # The following is not necessary as we load these datasets after and query based on what is present in the MM data\n",
    "# countries_w_data = mm_countries_sig['ISO3_code'].apply(lambda x: x in countries_pop_df.index and x in countries_count.index)\n",
    "# filtered_countries = mm_countries_sig[countries_w_data]['ISO3_code']\n",
    "# len(filtered_countries)\n",
    "\n",
    "query_countries = mm_countries_sig['ISO3_code'] # This is a list of the countries which appear in the relevant data set"
   ]
  },
  {
   "cell_type": "markdown",
   "id": "59c59b68",
   "metadata": {},
   "source": [
    "### Get the counts for each country (requires all Moral Machines data)"
   ]
  },
  {
   "cell_type": "code",
   "execution_count": 5,
   "id": "ac884fa6",
   "metadata": {},
   "outputs": [
    {
     "name": "stderr",
     "output_type": "stream",
     "text": [
      "/var/folders/y6/5z6f2swj2zqf2122ywg2lfg40000gn/T/ipykernel_91894/1253985769.py:5: DtypeWarning: Columns (21) have mixed types. Specify dtype option on import or set low_memory=False.\n",
      "  for chunk in reader:\n",
      "/var/folders/y6/5z6f2swj2zqf2122ywg2lfg40000gn/T/ipykernel_91894/1253985769.py:5: DtypeWarning: Columns (21) have mixed types. Specify dtype option on import or set low_memory=False.\n",
      "  for chunk in reader:\n",
      "/var/folders/y6/5z6f2swj2zqf2122ywg2lfg40000gn/T/ipykernel_91894/1253985769.py:5: DtypeWarning: Columns (21) have mixed types. Specify dtype option on import or set low_memory=False.\n",
      "  for chunk in reader:\n",
      "/var/folders/y6/5z6f2swj2zqf2122ywg2lfg40000gn/T/ipykernel_91894/1253985769.py:5: DtypeWarning: Columns (21) have mixed types. Specify dtype option on import or set low_memory=False.\n",
      "  for chunk in reader:\n",
      "/var/folders/y6/5z6f2swj2zqf2122ywg2lfg40000gn/T/ipykernel_91894/1253985769.py:5: DtypeWarning: Columns (21) have mixed types. Specify dtype option on import or set low_memory=False.\n",
      "  for chunk in reader:\n",
      "/var/folders/y6/5z6f2swj2zqf2122ywg2lfg40000gn/T/ipykernel_91894/1253985769.py:5: DtypeWarning: Columns (21) have mixed types. Specify dtype option on import or set low_memory=False.\n",
      "  for chunk in reader:\n"
     ]
    }
   ],
   "source": [
    "if not os.path.isfile('../../external_data/moral_machines/country_totals.csv'):\n",
    "    chunksize = 10 ** 6\n",
    "    count = pd.Series()\n",
    "    with pd.read_csv('../../external_data/moral_machines/SharedResponses.csv',\n",
    "                     chunksize=chunksize) as reader:\n",
    "        for chunk in reader:\n",
    "            # We are double counting here, I think, but that should be ok because we're not using the counts\n",
    "            # directly but rather as a proportion\n",
    "            count = count.add(chunk['UserCountry3'].value_counts(), fill_value=0)\n",
    "    count.name = 'total rows'\n",
    "    count.to_csv('../../external_data/moral_machines/country_totals.csv')"
   ]
  },
  {
   "cell_type": "code",
   "execution_count": 25,
   "id": "508d1f1c-57e6-4056-bf7e-f19ff0862327",
   "metadata": {},
   "outputs": [
    {
     "data": {
      "text/html": [
       "<div>\n",
       "<style scoped>\n",
       "    .dataframe tbody tr th:only-of-type {\n",
       "        vertical-align: middle;\n",
       "    }\n",
       "\n",
       "    .dataframe tbody tr th {\n",
       "        vertical-align: top;\n",
       "    }\n",
       "\n",
       "    .dataframe thead th {\n",
       "        text-align: right;\n",
       "    }\n",
       "</style>\n",
       "<table border=\"1\" class=\"dataframe\">\n",
       "  <thead>\n",
       "    <tr style=\"text-align: right;\">\n",
       "      <th></th>\n",
       "      <th>total rows</th>\n",
       "    </tr>\n",
       "    <tr>\n",
       "      <th>UserCountry3</th>\n",
       "      <th></th>\n",
       "    </tr>\n",
       "  </thead>\n",
       "  <tbody>\n",
       "    <tr>\n",
       "      <th>ALB</th>\n",
       "      <td>13913.0</td>\n",
       "    </tr>\n",
       "    <tr>\n",
       "      <th>ARE</th>\n",
       "      <td>94743.0</td>\n",
       "    </tr>\n",
       "    <tr>\n",
       "      <th>ARG</th>\n",
       "      <td>474543.0</td>\n",
       "    </tr>\n",
       "    <tr>\n",
       "      <th>AUS</th>\n",
       "      <td>1864754.0</td>\n",
       "    </tr>\n",
       "    <tr>\n",
       "      <th>AUT</th>\n",
       "      <td>624532.0</td>\n",
       "    </tr>\n",
       "    <tr>\n",
       "      <th>...</th>\n",
       "      <td>...</td>\n",
       "    </tr>\n",
       "    <tr>\n",
       "      <th>URY</th>\n",
       "      <td>70383.0</td>\n",
       "    </tr>\n",
       "    <tr>\n",
       "      <th>USA</th>\n",
       "      <td>17850148.0</td>\n",
       "    </tr>\n",
       "    <tr>\n",
       "      <th>VEN</th>\n",
       "      <td>90873.0</td>\n",
       "    </tr>\n",
       "    <tr>\n",
       "      <th>VNM</th>\n",
       "      <td>109857.0</td>\n",
       "    </tr>\n",
       "    <tr>\n",
       "      <th>ZAF</th>\n",
       "      <td>134069.0</td>\n",
       "    </tr>\n",
       "  </tbody>\n",
       "</table>\n",
       "<p>92 rows × 1 columns</p>\n",
       "</div>"
      ],
      "text/plain": [
       "              total rows\n",
       "UserCountry3            \n",
       "ALB              13913.0\n",
       "ARE              94743.0\n",
       "ARG             474543.0\n",
       "AUS            1864754.0\n",
       "AUT             624532.0\n",
       "...                  ...\n",
       "URY              70383.0\n",
       "USA           17850148.0\n",
       "VEN              90873.0\n",
       "VNM             109857.0\n",
       "ZAF             134069.0\n",
       "\n",
       "[92 rows x 1 columns]"
      ]
     },
     "execution_count": 25,
     "metadata": {},
     "output_type": "execute_result"
    }
   ],
   "source": [
    "counts_df = pd.read_csv('../../external_data/moral_machines/country_totals.csv')\n",
    "countries_count = counts_df[counts_df['UserCountry3'].isin(query_countries)]\n",
    "countries_count = countries_count.set_index('UserCountry3')\n",
    "countries_count"
   ]
  },
  {
   "cell_type": "markdown",
   "id": "7a446ec9",
   "metadata": {},
   "source": [
    "### Calculate the proportion of each country using UN population data"
   ]
  },
  {
   "cell_type": "code",
   "execution_count": 19,
   "id": "86720c35-adb8-4192-a4f8-640ca4ed9f14",
   "metadata": {},
   "outputs": [
    {
     "name": "stderr",
     "output_type": "stream",
     "text": [
      "/var/folders/y6/5z6f2swj2zqf2122ywg2lfg40000gn/T/ipykernel_91894/2915646155.py:1: DtypeWarning: Columns (2) have mixed types. Specify dtype option on import or set low_memory=False.\n",
      "  pop_df = pd.read_csv('../../external_data/WPP2022_Demographic_Indicators_Medium.csv')\n"
     ]
    },
    {
     "data": {
      "text/html": [
       "<div>\n",
       "<style scoped>\n",
       "    .dataframe tbody tr th:only-of-type {\n",
       "        vertical-align: middle;\n",
       "    }\n",
       "\n",
       "    .dataframe tbody tr th {\n",
       "        vertical-align: top;\n",
       "    }\n",
       "\n",
       "    .dataframe thead th {\n",
       "        text-align: right;\n",
       "    }\n",
       "</style>\n",
       "<table border=\"1\" class=\"dataframe\">\n",
       "  <thead>\n",
       "    <tr style=\"text-align: right;\">\n",
       "      <th></th>\n",
       "      <th>TPopulation1Jan</th>\n",
       "    </tr>\n",
       "    <tr>\n",
       "      <th>ISO3_code</th>\n",
       "      <th></th>\n",
       "    </tr>\n",
       "  </thead>\n",
       "  <tbody>\n",
       "    <tr>\n",
       "      <th>REU</th>\n",
       "      <td>970.131</td>\n",
       "    </tr>\n",
       "    <tr>\n",
       "      <th>DZA</th>\n",
       "      <td>44543.592</td>\n",
       "    </tr>\n",
       "    <tr>\n",
       "      <th>EGY</th>\n",
       "      <td>110132.806</td>\n",
       "    </tr>\n",
       "    <tr>\n",
       "      <th>MAR</th>\n",
       "      <td>37264.469</td>\n",
       "    </tr>\n",
       "    <tr>\n",
       "      <th>TUN</th>\n",
       "      <td>12308.697</td>\n",
       "    </tr>\n",
       "    <tr>\n",
       "      <th>...</th>\n",
       "      <td>...</td>\n",
       "    </tr>\n",
       "    <tr>\n",
       "      <th>VEN</th>\n",
       "      <td>28047.658</td>\n",
       "    </tr>\n",
       "    <tr>\n",
       "      <th>CAN</th>\n",
       "      <td>38290.846</td>\n",
       "    </tr>\n",
       "    <tr>\n",
       "      <th>USA</th>\n",
       "      <td>337499.479</td>\n",
       "    </tr>\n",
       "    <tr>\n",
       "      <th>AUS</th>\n",
       "      <td>26046.256</td>\n",
       "    </tr>\n",
       "    <tr>\n",
       "      <th>NZL</th>\n",
       "      <td>5163.684</td>\n",
       "    </tr>\n",
       "  </tbody>\n",
       "</table>\n",
       "<p>92 rows × 1 columns</p>\n",
       "</div>"
      ],
      "text/plain": [
       "           TPopulation1Jan\n",
       "ISO3_code                 \n",
       "REU                970.131\n",
       "DZA              44543.592\n",
       "EGY             110132.806\n",
       "MAR              37264.469\n",
       "TUN              12308.697\n",
       "...                    ...\n",
       "VEN              28047.658\n",
       "CAN              38290.846\n",
       "USA             337499.479\n",
       "AUS              26046.256\n",
       "NZL               5163.684\n",
       "\n",
       "[92 rows x 1 columns]"
      ]
     },
     "execution_count": 19,
     "metadata": {},
     "output_type": "execute_result"
    }
   ],
   "source": [
    "pop_df = pd.read_csv('../../external_data/WPP2022_Demographic_Indicators_Medium.csv')\n",
    "\n",
    "# To extract a probability for the given countries from their population\n",
    "countries_pop_df = pop_df[(pop_df['ISO3_code'].isin(query_countries)) &\n",
    "                          (pop_df['Time'] == 2022)][['ISO3_code', 'TPopulation1Jan']]\n",
    "countries_pop_df = countries_pop_df.set_index('ISO3_code')\n",
    "total_pop = countries_pop_df.sum()\n",
    "# countries_pop_df.divide(total_pop)\n",
    "countries_pop_df"
   ]
  },
  {
   "cell_type": "markdown",
   "id": "346460a7",
   "metadata": {},
   "source": [
    "## Put the Data into our Framework"
   ]
  },
  {
   "cell_type": "code",
   "execution_count": 11,
   "id": "5b7cd320",
   "metadata": {},
   "outputs": [],
   "source": [
    "import itertools\n",
    "import random\n",
    "import os, sys\n",
    "import value_aggregation as pm"
   ]
  },
  {
   "cell_type": "code",
   "execution_count": 12,
   "id": "b4b49313",
   "metadata": {},
   "outputs": [],
   "source": [
    "filtered_countries = mm_countries_sig['ISO3_code']\n",
    "country_combos = list(itertools.combinations(filtered_countries, min(5, len(filtered_countries))))"
   ]
  },
  {
   "cell_type": "code",
   "execution_count": 20,
   "id": "80572ffd",
   "metadata": {},
   "outputs": [
    {
     "name": "stdout",
     "output_type": "stream",
     "text": [
      "proportion disagree: 0.0\n",
      "\n",
      "{'support': 896, 'oppose': 4}\n"
     ]
    }
   ],
   "source": [
    "sample_matchups = random.sample(country_combos, min(100, len(country_combos)))\n",
    "\n",
    "credence_df = countries_pop_df # `countries_pop_df` or `countries_count`\n",
    "disagreements = 0\n",
    "count = 0\n",
    "results = {}\n",
    "\n",
    "# First just test each category and its negation\n",
    "for category in categories:\n",
    "    # Just a placeholder to test all of the country samples right now\n",
    "    for matchup in sample_matchups:\n",
    "        outcomes = {f'support' : {}, f'oppose' : {}}\n",
    "        beliefs = {}\n",
    "        for country in matchup:\n",
    "            # then test subsets of the categories\n",
    "            util = mm_countries_sig[mm_countries_sig['ISO3_code'] == country][category + est_str].item()\n",
    "            outcomes[f'support'][country] = util\n",
    "            outcomes[f'oppose'][country] = -util\n",
    "            # nb: not normalize because it should be handled\n",
    "            beliefs[country] = credence_df.loc[country].item()\n",
    "        gameState = pm.VoteGameState(beliefs, outcomes)\n",
    "        mec_ans = pm.run_mec(gameState, none_if_tie=True)\n",
    "        nbs_ans = pm.run_nash_bargain(gameState, none_if_tie=True)\n",
    "\n",
    "        if mec_ans not in results:\n",
    "            results[mec_ans] = 0\n",
    "        if nbs_ans not in results:\n",
    "            results[nbs_ans] = 0\n",
    "\n",
    "        results[mec_ans] += 1\n",
    "\n",
    "        if mec_ans != nbs_ans:\n",
    "            disagreements += 1\n",
    "            results[nbs_ans] += 1\n",
    "\n",
    "        count += 1\n",
    "        \n",
    "print(f'proportion disagree: {disagreements / count}')\n",
    "print()\n",
    "print(results)"
   ]
  },
  {
   "cell_type": "code",
   "execution_count": 32,
   "id": "8c767811",
   "metadata": {},
   "outputs": [],
   "source": [
    "def test_disagreements(category_combos, sample_matchups, util_df, credence_df):\n",
    "    disagreements = 0\n",
    "    count = 0\n",
    "    results = {}\n",
    "    example_disagrees = []\n",
    "\n",
    "    # Just a placeholder to test all of the country samples right now\n",
    "    for matchup in sample_matchups:\n",
    "        # The way to reduce redundancy with above code is to pass a list of element one here\n",
    "        for cat_combo in category_combos:\n",
    "            #######\n",
    "            outcomes = {}\n",
    "            beliefs = {}\n",
    "            for category in cat_combo:\n",
    "                outcomes[category] = {}\n",
    "\n",
    "            for country in matchup:\n",
    "                # nb: not normalize because it should be handled\n",
    "                beliefs[country] = credence_df.loc[country].item()\n",
    "\n",
    "                for category in cat_combo:\n",
    "                    util = util_df[util_df['ISO3_code'] == country][category + est_str].item()\n",
    "                    outcomes[category][country] = util\n",
    "\n",
    "            gameState = pm.VoteGameState(beliefs, outcomes)\n",
    "            mec_ans = pm.run_mec(gameState, none_if_tie=True)\n",
    "            nbs_ans = pm.run_nash_bargain(gameState, none_if_tie=True)\n",
    "\n",
    "            if mec_ans not in results:\n",
    "                results[mec_ans] = 0\n",
    "            if nbs_ans not in results:\n",
    "                results[nbs_ans] = 0\n",
    "\n",
    "            results[mec_ans] += 1\n",
    "\n",
    "            if mec_ans != nbs_ans:\n",
    "                example_disagrees.append(gameState)\n",
    "                disagreements += 1\n",
    "                results[nbs_ans] += 1\n",
    "\n",
    "            count += 1\n",
    "\n",
    "    print(f'proportion disagree: {disagreements / count}, count: {disagreements}, n: {count}')\n",
    "    print()\n",
    "    print(results)\n",
    "    return example_disagrees"
   ]
  },
  {
   "cell_type": "code",
   "execution_count": 33,
   "id": "86aa8111",
   "metadata": {},
   "outputs": [
    {
     "name": "stdout",
     "output_type": "stream",
     "text": [
      "proportion disagree: 0.004920634920634921, count: 62, n: 12600\n",
      "\n",
      "{'Law [Illegal -> Legal]': 764, 'No. Characters [Less -> More]': 3520, 'Species [Pets -> Humans]': 5093, 'Fitness [Large -> Fit]': 81, 'Social Status [Low -> High]': 682, 'Age [Elderly -> Young]': 2503, 'Gender [Male -> Female]': 5, '[Passengers -> Pedestrians]': 14}\n",
      "\n",
      "proportion disagree: 0.004285714285714286, count: 54, n: 12600\n",
      "\n",
      "{'Law [Illegal -> Legal]': 810, 'Age [Elderly -> Young]': 2684, 'No. Characters [Less -> More]': 3297, 'Species [Pets -> Humans]': 5138, 'Fitness [Large -> Fit]': 85, 'Social Status [Low -> High]': 625, 'Gender [Male -> Female]': 9, '[Passengers -> Pedestrians]': 6}\n",
      "\n",
      "proportion disagree: 0.007063492063492063, count: 89, n: 12600\n",
      "\n",
      "{'Law [Illegal -> Legal]': 356, 'No. Characters [Less -> More]': 3600, 'Species [Pets -> Humans]': 6205, 'Social Status [Low -> High]': 288, 'Age [Elderly -> Young]': 2240}\n"
     ]
    }
   ],
   "source": [
    "ex_1 = test_disagreements(list(itertools.combinations(categories, 4)), sample_matchups,\n",
    "                   mm_countries_sig, countries_pop_df)\n",
    "print()\n",
    "# sweet spot is here\n",
    "test_disagreements(list(itertools.combinations(categories, 4)), sample_matchups,\n",
    "                   mm_countries_sig, countries_count)\n",
    "print()\n",
    "ex_2 = test_disagreements(list(itertools.combinations(categories, 5)), sample_matchups,\n",
    "                   mm_countries_sig, countries_pop_df)"
   ]
  },
  {
   "cell_type": "markdown",
   "id": "e7aa7066-805c-48a8-a0ec-3dc53ec3eeab",
   "metadata": {},
   "source": [
    "### Drilling down on an example disagreement"
   ]
  },
  {
   "cell_type": "code",
   "execution_count": 25,
   "id": "d0889385",
   "metadata": {},
   "outputs": [
    {
     "data": {
      "text/plain": [
       "'Species [Pets -> Humans]'"
      ]
     },
     "execution_count": 25,
     "metadata": {},
     "output_type": "execute_result"
    }
   ],
   "source": [
    "pm.run_mec(ex_1[0])"
   ]
  },
  {
   "cell_type": "code",
   "execution_count": 18,
   "id": "5d222c67",
   "metadata": {},
   "outputs": [
    {
     "name": "stdout",
     "output_type": "stream",
     "text": [
      "proportion disagree: 0.0037301587301587303\n",
      "\n",
      "{'Law [Illegal -> Legal]': 787, 'Age [Elderly -> Young]': 2454, 'No. Characters [Less -> More]': 3478, 'Species [Pets -> Humans]': 5152, 'Gender [Male -> Female]': 9, 'Social Status [Low -> High]': 676, 'Fitness [Large -> Fit]': 79, '[Passengers -> Pedestrians]': 12}\n"
     ]
    }
   ],
   "source": [
    "test_disagreements(list(itertools.combinations(categories, 4)), sample_matchups,\n",
    "                   mm_countries_sig, countries_pop_df)"
   ]
  },
  {
   "cell_type": "code",
   "execution_count": 12,
   "id": "13b69bf4",
   "metadata": {},
   "outputs": [
    {
     "data": {
      "text/plain": [
       "OrderedDict([('plotdata.util',\n",
       "                 Estimates        se Variant           Label\n",
       "              0   0.339062  0.001641       1  No. Characters\n",
       "              1   0.489515  0.001322       2  No. Characters\n",
       "              2   0.558371  0.000942       3  No. Characters\n",
       "              3   0.644861  0.000842       4  No. Characters)])"
      ]
     },
     "execution_count": 12,
     "metadata": {},
     "output_type": "execute_result"
    }
   ],
   "source": [
    "# looking at the various rdata files\n",
    "\n",
    "# tried this after download from https://osf.io/3hvt2/download\n",
    "# but it is not interesting...\n",
    "directory = '../external_data/moral_machines/Moral Machine Effect Sizes'\n",
    "files = os.listdir(directory)\n",
    "files\n",
    "import pyreadr\n",
    "result = pyreadr.read_r(os.path.join(directory, files[6]))\n",
    "result"
   ]
  },
  {
   "cell_type": "markdown",
   "id": "1d6eea03",
   "metadata": {},
   "source": [
    "one case or scenario for each two row (users are shown many cases)\n",
    "each outcome is one of the two rows.... so dumb!\n",
    "ResponseID: \"a unique, random set of characters that represents an identifier of the scenario.\n",
    "Since each scenario is represented by 2 rows,\"\n",
    "\n",
    "We probably just want to look at, say, 5 people vs. four people to begin with\n",
    "but we need to extract the preferences for each country, say, for each attribute\n",
    "\n",
    "> \" - Saved: this resembles the actual decision made by the user [1: user decided to save the characters in this outcome, 0: user decided to kill the characters in this outcome]. Note that this column is reverse coded from the database. On the website, users click on the outcome they choose. That means the choice they make results in the death of the characters represented in that outcome (with a skull sign on the website). You can imagine another column named \"Killed\" which would be the exact opposite of \"Saved\" (i.e. 1 if Saved is 0 and 0 if Saved is 1).\"\n",
    "\n",
    "> - UserCountry3: the alpha-3 ISO code of the country from which the user accessed the website. This is generated from the user IP which is collected but not shared here.\n",
    "\n",
    "> - ScenarioType and ScenarioTypeStrict: These two columns have 7 values, corresponding to 7 types of scenarios (6 attributes + random). These are: \"Utilitarian\",\"Gender\", \"Fitness\", \"Age\", \"Social Value\", \"Species\", and \"Random\".\n",
    "In the early stage of the website, we forgot to include a code that gives the scenario type (one of the 6 categories mentioned above + random). We had to write a code to figure that out from the character types. This is the \"ScenarioType\" column. Some scenarios who were generated as part of the \"random\", could fit in one of the 6 other categories. Later, we used a clear parameter to capture this type, which is in \"ScenarioTypeStrict\". Thus, this column provides an accurate description, but it does not have a value for the early scenarios. In the analysis for the figures, whenever we filtered based on the scenario type, we used both columns. For example, to filter the age related scenarios, we use: ScenarioTypeStrict=“Age” && ScenarioType=“Age” \n",
    "where \"&&” is the logic AND.\n",
    "\n",
    "Should read their nature paper again... figure out how to learn models for the preferences of each attribute\n",
    "\n",
    "I think filter by scenario type then group by country and want count for each way... how did they determine the degree of preference for fitness at the end of the questionnaire?\n",
    "\n",
    "Reading their supplementary information, need to compute the \"average marginal component effect (AMCE)\" this very complicated formula. Look at weakened formula on page 19\n",
    "\n",
    "But I'm not sure that would be the appropriate weighting... \n",
    "\n",
    "They raise a good point about whether one demographic category is actually coding for the response of another demographic category and how that needs to be controlled for.\n",
    "\n",
    "Consider the coder to generate 'Figure S8:' \n",
    "\n",
    "Easiest thing would be to simply copy 'Extended data table 1'\n",
    "\n",
    "... make slides on this."
   ]
  },
  {
   "cell_type": "code",
   "execution_count": null,
   "id": "40e5552d",
   "metadata": {},
   "outputs": [],
   "source": [
    "df = pd.read_csv('../data/moral_machines/moral_machines_test.csv')\n",
    "\n",
    "# need to do this as an interactive session\n",
    "# dowload this repository, then download the data using the make file\n",
    "\n",
    "# for each pair of rows\n",
    "# verify that userid scenario id and session id are the same\n",
    "\n",
    "# need "
   ]
  }
 ],
 "metadata": {
  "kernelspec": {
   "display_name": "env-parliament",
   "language": "python",
   "name": "env-parliament"
  },
  "language_info": {
   "codemirror_mode": {
    "name": "ipython",
    "version": 3
   },
   "file_extension": ".py",
   "mimetype": "text/x-python",
   "name": "python",
   "nbconvert_exporter": "python",
   "pygments_lexer": "ipython3",
   "version": "3.11.6"
  }
 },
 "nbformat": 4,
 "nbformat_minor": 5
}
