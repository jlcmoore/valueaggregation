{
 "cells": [
  {
   "cell_type": "code",
   "execution_count": 1,
   "id": "afcbd617",
   "metadata": {},
   "outputs": [],
   "source": [
    "# Based on the code from https://github.com/liang-jenny/nlpositionality"
   ]
  },
  {
   "cell_type": "code",
   "execution_count": 2,
   "id": "ad347b8f",
   "metadata": {},
   "outputs": [],
   "source": [
    "import pandas as pd\n",
    "from scipy import stats"
   ]
  },
  {
   "cell_type": "code",
   "execution_count": 3,
   "id": "646883ac",
   "metadata": {},
   "outputs": [],
   "source": [
    "import value_aggregation as pm"
   ]
  },
  {
   "cell_type": "code",
   "execution_count": 4,
   "id": "f5caaaf6",
   "metadata": {},
   "outputs": [],
   "source": [
    "df = pd.read_csv('../../external_data/nlpositionality/social-acceptability_processed.csv')\n",
    "\n",
    "# Available attributes:\n",
    "demographics = ['country_longest', 'education', 'ethnicity', 'gender',\n",
    "                'native_language', 'age', 'country_residence',\n",
    "                'religion']"
   ]
  },
  {
   "cell_type": "markdown",
   "id": "91ca3318",
   "metadata": {},
   "source": [
    "### Finding the groups which are least similar"
   ]
  },
  {
   "cell_type": "code",
   "execution_count": 5,
   "id": "aed4ee5e",
   "metadata": {},
   "outputs": [],
   "source": [
    "# Currently just comparing each group with the negation of that group\n",
    "# Test on the groups with the least correlation\n",
    "\n",
    "model = 'delphi'\n",
    "correlations = {}\n",
    "\n",
    "for demographic in demographics:\n",
    "    correlations[demographic] = {}\n",
    "    for category in df[demographic].unique(): \n",
    "    \n",
    "        in_category_df = df[df[demographic] == category]\n",
    "        in_category_grouped = (in_category_df.groupby(by=['action'])\n",
    "                              .mean(numeric_only=True)[['litw', model]]\n",
    "                              .reset_index())\n",
    "\n",
    "        not_in_category_df = df[df[demographic] != category]\n",
    "        # can't do the mean on just the 'litw' column b/c it is a group by operation\n",
    "        not_in_category_grouped = (not_in_category_df.groupby(by=['action'])\n",
    "                                   .mean(numeric_only=True)[['litw', model]]\n",
    "                                   .reset_index())\n",
    "        \n",
    "        merged = in_category_grouped.merge(not_in_category_grouped, on=['action',model])\n",
    "\n",
    "        if len(merged) >= 2:\n",
    "            correlations[demographic][category] = {}\n",
    "            correlations[demographic][category]['size'] = len(merged)\n",
    "            correlations[demographic][category]['corr'] = stats.pearsonr(merged['litw_x'], merged['litw_y'])\n"
   ]
  },
  {
   "cell_type": "code",
   "execution_count": 6,
   "id": "abc64005",
   "metadata": {},
   "outputs": [
    {
     "name": "stdout",
     "output_type": "stream",
     "text": [
      "country_longest: African-Islamic {'size': 74, 'corr': PearsonRResult(statistic=0.6951044458607152, pvalue=6.370247074591044e-12)}\n",
      "education: professional school {'size': 189, 'corr': PearsonRResult(statistic=0.6575190998119482, pvalue=8.962644001682762e-25)}\n",
      "ethnicity: black {'size': 237, 'corr': PearsonRResult(statistic=0.7740744803370317, pvalue=1.4827155219016302e-48)}\n",
      "gender: non-binary {'size': 280, 'corr': PearsonRResult(statistic=0.7968998288815363, pvalue=8.468066924683591e-63)}\n",
      "native_language: not english {'size': 264, 'corr': PearsonRResult(statistic=0.8484484719454016, pvalue=2.3349426316315795e-74)}\n",
      "age: > 80 {'size': 25, 'corr': PearsonRResult(statistic=0.6589700650136484, pvalue=0.00034067898041322957)}\n",
      "country_residence: African-Islamic {'size': 68, 'corr': PearsonRResult(statistic=0.6171432995658224, pvalue=2.085419867057657e-08)}\n",
      "religion: buddhist {'size': 117, 'corr': PearsonRResult(statistic=0.7371188337149057, pvalue=2.6693808345252273e-21)}\n"
     ]
    }
   ],
   "source": [
    "# And looking for those groups with have the least correlation with their negation\n",
    "\n",
    "for demographic in demographics:\n",
    "    max_val = min(correlations[demographic], key= lambda x: correlations[demographic][x]['corr'])\n",
    "    print(f\"{demographic}: {max_val} {correlations[demographic][max_val]}\")\n",
    "\n",
    "# education: professional school vs. not professional school seems like the least correlation"
   ]
  },
  {
   "cell_type": "markdown",
   "id": "29e28b04",
   "metadata": {},
   "source": [
    "### Putting those groups into our framework"
   ]
  },
  {
   "cell_type": "code",
   "execution_count": 7,
   "id": "a4a5a8b7",
   "metadata": {},
   "outputs": [],
   "source": [
    "def scenario_to_game(df, scenario, demographic, categories):\n",
    "    \"\"\"\n",
    "    Constructs a GameState for the given scenario demographic and categories.\n",
    "    \"\"\"\n",
    "    actions = [-2.0, -1.0, 0.0, 1.0, 2.0]\n",
    "    # -2 -1 0 1 2\n",
    "    # \"it's very bad\" \"it's bad\" \"it's okay\" \"it's good\" \"it's very good\"\n",
    "\n",
    "    credences = {}\n",
    "    outcomes = {}\n",
    "\n",
    "    for action in actions:\n",
    "        outcomes[action] = {}\n",
    "        \n",
    "    # This is redundant when called many times inside of a loop, but is not \n",
    "    # that expensive\n",
    "    sum_in_categories = 0\n",
    "    for category in categories:\n",
    "        sum_in_categories += len(df[df[demographic] == category])\n",
    "\n",
    "    for category in categories:\n",
    "        agent_df = df[df[demographic] == category]\n",
    "\n",
    "        agent_scenario_df = agent_df[agent_df['action'] == scenario]\n",
    "        # I don't have a good reason why this is the threshold\n",
    "        if len(agent_scenario_df) < 5:\n",
    "            continue\n",
    "\n",
    "        # TODO: there is a rounding error here\n",
    "        credences[category] = len(agent_df) / sum_in_categories\n",
    "\n",
    "        for action in actions:\n",
    "            # outcomes: the percentage of each group who labeled each outcome.\n",
    "            outcomes[action][category] = (len(agent_scenario_df[agent_scenario_df['litw'] \n",
    "                                                             == action]) /\n",
    "                                          len(agent_scenario_df))\n",
    "        \n",
    "    gameState = pm.VoteGameState(credences, outcomes)\n",
    "    return gameState\n"
   ]
  },
  {
   "cell_type": "code",
   "execution_count": 8,
   "id": "0bfd92c4",
   "metadata": {},
   "outputs": [],
   "source": [
    "def count_disagreements(df, demographic, categories, size=1):    \n",
    "    scenario_disagrees = {}\n",
    "    \n",
    "    for scenario in df['action'].unique():\n",
    "        \n",
    "        gameState = scenario_to_game(df, scenario, demographic, categories)\n",
    "\n",
    "        mec_result = pm.run_mec(gameState)\n",
    "        bargain_result = pm.run_nash_bargain(gameState)\n",
    "        # This is taking too long. Try again outside of a notebook\n",
    "        # maximax_result = pm.run_expectimax(gameState)\n",
    "        \n",
    "        scenario_disagrees[scenario] = {}\n",
    "    \n",
    "        scenario_disagrees[scenario]['mec-bar'] = abs(mec_result - bargain_result) >= size\n",
    "\n",
    "    return scenario_disagrees"
   ]
  },
  {
   "cell_type": "code",
   "execution_count": 23,
   "id": "28d07c3a",
   "metadata": {},
   "outputs": [],
   "source": [
    "# pre-processing disagreements for all demographics\n",
    "# this takes a while\n",
    "\n",
    "demographic_disagreements = {}\n",
    "for demographic in demographics:    \n",
    "    categories = df[demographic].unique()\n",
    "    scenario_disagrees = count_disagreements(df, demographic, categories)\n",
    "    demographic_disagreements[demographic] = scenario_disagrees"
   ]
  },
  {
   "cell_type": "code",
   "execution_count": 24,
   "id": "b114a456",
   "metadata": {},
   "outputs": [],
   "source": [
    "def disagrees_only(the_dict, sub_key):\n",
    "    return list(filter(lambda x: the_dict[x][sub_key], the_dict.keys()))\n",
    "\n",
    "def agrees_only(the_dict, sub_key):\n",
    "    return list(filter(lambda x: not the_dict[x][sub_key], the_dict.keys()))\n",
    "\n",
    "def max_disagreement(demographic_disagreements, disagree_type):\n",
    "    # Looking for the demographic in which there is most disagreement in the formal models\n",
    "    max_disagreement = 0.0\n",
    "    max_disagreement_demographic = None\n",
    "\n",
    "    for demographic in demographic_disagreements.keys():\n",
    "\n",
    "        # The percentage of scenarios for these categories in which we can find a\n",
    "        # disagreement in the models \n",
    "        bar_disagreeing_scenarios_only = disagrees_only(demographic_disagreements[demographic],\n",
    "                                                        disagree_type)\n",
    "\n",
    "        this_disagreement = len(bar_disagreeing_scenarios_only) / len(scenario_disagrees)\n",
    "\n",
    "        if max_disagreement_demographic == None or max_disagreement < this_disagreement:\n",
    "            max_disagreement = this_disagreement\n",
    "            max_disagreement_demographic = demographic\n",
    "    return max_disagreement_demographic"
   ]
  },
  {
   "cell_type": "code",
   "execution_count": 30,
   "id": "4f19c90a-f386-4397-999a-205336eab326",
   "metadata": {},
   "outputs": [],
   "source": [
    "def disagree_stats(category):\n",
    "    print(f\"%: {len(disagrees_only(demographic_disagreements[category], 'mec-bar')) / len(demographic_disagreements[category])}\")\n",
    "    print(f\"count: {len(disagrees_only(demographic_disagreements[category], 'mec-bar'))}\")\n",
    "    print(f\"n: {len(demographic_disagreements[category])}\")"
   ]
  },
  {
   "cell_type": "markdown",
   "id": "79e2ef7e-66e7-4d21-ab77-ff5ec8012125",
   "metadata": {},
   "source": [
    "### This is the stat which we estimate in our paper"
   ]
  },
  {
   "cell_type": "code",
   "execution_count": 28,
   "id": "e8e7ac3c",
   "metadata": {},
   "outputs": [
    {
     "data": {
      "text/plain": [
       "'education'"
      ]
     },
     "execution_count": 28,
     "metadata": {},
     "output_type": "execute_result"
    }
   ],
   "source": [
    "max_disagreement(demographic_disagreements, 'mec-bar')"
   ]
  },
  {
   "cell_type": "code",
   "execution_count": 32,
   "id": "1b3bf404-d2ab-446a-8bd0-7189d471c9f8",
   "metadata": {},
   "outputs": [
    {
     "name": "stdout",
     "output_type": "stream",
     "text": [
      "%: 0.010309278350515464\n",
      "count: 3\n",
      "n: 291\n"
     ]
    }
   ],
   "source": [
    "disagree_stats('education')"
   ]
  },
  {
   "cell_type": "markdown",
   "id": "f383f072",
   "metadata": {},
   "source": [
    "## Walking through a couple of examples of disagreement"
   ]
  },
  {
   "cell_type": "code",
   "execution_count": 143,
   "id": "7e105173",
   "metadata": {},
   "outputs": [
    {
     "data": {
      "text/plain": [
       "dict_keys(['country_longest', 'education', 'ethnicity', 'gender', 'native_language', 'age', 'country_residence', 'religion'])"
      ]
     },
     "execution_count": 143,
     "metadata": {},
     "output_type": "execute_result"
    }
   ],
   "source": [
    "demographic_disagreements.keys()"
   ]
  },
  {
   "cell_type": "code",
   "execution_count": 144,
   "id": "efa51801",
   "metadata": {},
   "outputs": [],
   "source": [
    "demographic = 'age'\n",
    "scenario_disagrees = demographic_disagreements[demographic]\n",
    "disagreeing_scenarios_only = disagrees_only(scenario_disagrees, 'mec-bar')\n",
    "categories = df[demographic].unique()"
   ]
  },
  {
   "cell_type": "code",
   "execution_count": 147,
   "id": "e87aab61",
   "metadata": {},
   "outputs": [
    {
     "data": {
      "text/plain": [
       "'children doing risky things.'"
      ]
     },
     "execution_count": 147,
     "metadata": {},
     "output_type": "execute_result"
    }
   ],
   "source": [
    "disagreeing_scenarios_only[0]"
   ]
  },
  {
   "cell_type": "code",
   "execution_count": 148,
   "id": "81fd0d13",
   "metadata": {},
   "outputs": [
    {
     "data": {
      "text/plain": [
       "{\"beliefs\" : {'20-30': 0.4253723677452491, '10-20': 0.35285053929121724}, \"outcomes\" : {-2.0: {'20-30': 0.0, '10-20': 0.23076923076923078}, -1.0: {'20-30': 0.42857142857142855, '10-20': 0.3076923076923077}, 0.0: {'20-30': 0.5714285714285714, '10-20': 0.15384615384615385}, 1.0: {'20-30': 0.0, '10-20': 0.23076923076923078}, 2.0: {'20-30': 0.0, '10-20': 0.07692307692307693}}, \"actions_taken\" : []}"
      ]
     },
     "execution_count": 148,
     "metadata": {},
     "output_type": "execute_result"
    }
   ],
   "source": [
    "game = scenario_to_game(df, disagreeing_scenarios_only[0], demographic, categories)\n",
    "game"
   ]
  },
  {
   "cell_type": "code",
   "execution_count": null,
   "id": "8bdabc30",
   "metadata": {},
   "outputs": [],
   "source": [
    "{\"beliefs\" : {'20-30': 0.4253723677452491,\n",
    "              '10-20': 0.35285053929121724},\n",
    " \"outcomes\" : {-2.0: {'20-30': 0.0,\n",
    "                      '10-20': 0.23076923076923078},\n",
    "               -1.0: {'20-30': 0.42857142857142855,\n",
    "                      '10-20': 0.3076923076923077},\n",
    "               0.0: {'20-30': 0.5714285714285714,\n",
    "                     '10-20': 0.15384615384615385},\n",
    "               1.0: {'20-30': 0.0,\n",
    "                     '10-20': 0.23076923076923078},\n",
    "               2.0: {'20-30': 0.0,\n",
    "                     '10-20': 0.07692307692307693}},\n",
    " \"actions_taken\" : []}"
   ]
  },
  {
   "cell_type": "code",
   "execution_count": 149,
   "id": "2b6fdfaa",
   "metadata": {},
   "outputs": [
    {
     "data": {
      "text/plain": [
       "0.0"
      ]
     },
     "execution_count": 149,
     "metadata": {},
     "output_type": "execute_result"
    }
   ],
   "source": [
    "pm.run_mec(game) # 0.0"
   ]
  },
  {
   "cell_type": "code",
   "execution_count": 150,
   "id": "7bd95a6d",
   "metadata": {},
   "outputs": [
    {
     "data": {
      "text/plain": [
       "-1.0"
      ]
     },
     "execution_count": 150,
     "metadata": {},
     "output_type": "execute_result"
    }
   ],
   "source": [
    "pm.run_nash_bargain(game) # -1.0"
   ]
  },
  {
   "cell_type": "code",
   "execution_count": 80,
   "id": "8e6ddf4c",
   "metadata": {},
   "outputs": [
    {
     "data": {
      "text/plain": [
       "\"\\n{-2.0: {'20-30': 0.0, '10-20': 0.024390243902439025, '40-50': 0.0, '30-40': 0.1},\\n-1.0: {'20-30': 0.02127659574468085, '10-20': 0.024390243902439025, '40-50': 0.0, '30-40': 0.1},\\n0.0: {'20-30': 0.2765957446808511, '10-20': 0.3902439024390244, '40-50': 0.42857142857142855, '30-40': 0.7},\\n1.0: {'20-30': 0.2127659574468085, '10-20': 0.24390243902439024, '40-50': 0.14285714285714285, '30-40': 0.0},\\n2.0: {'20-30': 0.48936170212765956, '10-20': 0.3170731707317073, '40-50': 0.42857142857142855, '30-40': 0.1}}\\n\""
      ]
     },
     "execution_count": 80,
     "metadata": {},
     "output_type": "execute_result"
    }
   ],
   "source": [
    "\"\"\"\n",
    "{-2.0: {'20-30': 0.0, '10-20': 0.024390243902439025, '40-50': 0.0, '30-40': 0.1},\n",
    "-1.0: {'20-30': 0.02127659574468085, '10-20': 0.024390243902439025, '40-50': 0.0, '30-40': 0.1},\n",
    "0.0: {'20-30': 0.2765957446808511, '10-20': 0.3902439024390244, '40-50': 0.42857142857142855, '30-40': 0.7},\n",
    "1.0: {'20-30': 0.2127659574468085, '10-20': 0.24390243902439024, '40-50': 0.14285714285714285, '30-40': 0.0},\n",
    "2.0: {'20-30': 0.48936170212765956, '10-20': 0.3170731707317073, '40-50': 0.42857142857142855, '30-40': 0.1}}\n",
    "\"\"\""
   ]
  }
 ],
 "metadata": {
  "kernelspec": {
   "display_name": "env-parliament",
   "language": "python",
   "name": "env-parliament"
  },
  "language_info": {
   "codemirror_mode": {
    "name": "ipython",
    "version": 3
   },
   "file_extension": ".py",
   "mimetype": "text/x-python",
   "name": "python",
   "nbconvert_exporter": "python",
   "pygments_lexer": "ipython3",
   "version": "3.11.6"
  }
 },
 "nbformat": 4,
 "nbformat_minor": 5
}
