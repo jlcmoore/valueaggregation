{
 "cells": [
  {
   "cell_type": "code",
   "execution_count": 6,
   "id": "6996e101",
   "metadata": {},
   "outputs": [],
   "source": [
    "import pickle\n",
    "import pandas as pd"
   ]
  },
  {
   "cell_type": "code",
   "execution_count": 7,
   "id": "56291beb",
   "metadata": {},
   "outputs": [],
   "source": [
    "import os"
   ]
  },
  {
   "cell_type": "code",
   "execution_count": 8,
   "id": "19a62537",
   "metadata": {},
   "outputs": [],
   "source": [
    "# If you want to see debug messages turn this on. Re-start the kernel to change the debugging\n",
    "import logging\n",
    "logging.basicConfig(level=logging.INFO)"
   ]
  },
  {
   "cell_type": "code",
   "execution_count": 9,
   "id": "ff6b7d45",
   "metadata": {},
   "outputs": [],
   "source": [
    "import value_aggregation as pm"
   ]
  },
  {
   "cell_type": "code",
   "execution_count": null,
   "id": "451cc80b-9b05-48f4-9e10-2468d9684325",
   "metadata": {},
   "outputs": [],
   "source": [
    "# NB: The authors of the Kaleido paper personally gave us access to their data"
   ]
  },
  {
   "cell_type": "code",
   "execution_count": 10,
   "id": "8a3e6db4",
   "metadata": {},
   "outputs": [
    {
     "data": {
      "text/plain": [
       "['social_chem.pkl', 'commonense_morality.pkl', 'sbic.pkl', 'moral_stories.pkl']"
      ]
     },
     "execution_count": 10,
     "metadata": {},
     "output_type": "execute_result"
    }
   ],
   "source": [
    "os.listdir(\"../../external_data/kaleido/\")"
   ]
  },
  {
   "cell_type": "code",
   "execution_count": 11,
   "id": "ecaaa08d",
   "metadata": {},
   "outputs": [],
   "source": [
    "# With all of these, only count it is a disagreement if neither theory has a tie"
   ]
  },
  {
   "cell_type": "markdown",
   "id": "7ef0bb72-0a7a-41c9-9610-2a2f65d8d937",
   "metadata": {},
   "source": [
    "### Loading in the Kaleido data and putting it in our framework"
   ]
  },
  {
   "cell_type": "code",
   "execution_count": 13,
   "id": "a272247f",
   "metadata": {},
   "outputs": [
    {
     "name": "stdout",
     "output_type": "stream",
     "text": [
      "file: social_chem.pkl\n",
      "# disagreements: 1251\n",
      "# scenarios: 80254\n",
      "% disagree: 0.015588008074363894\n",
      "\n",
      "file: commonense_morality.pkl\n",
      "# disagreements: 35\n",
      "# scenarios: 3408\n",
      "% disagree: 0.010269953051643193\n",
      "\n",
      "file: sbic.pkl\n",
      "# disagreements: 48\n",
      "# scenarios: 2960\n",
      "% disagree: 0.016216216216216217\n",
      "\n",
      "file: moral_stories.pkl\n",
      "# disagreements: 187\n",
      "# scenarios: 12000\n",
      "% disagree: 0.015583333333333333\n",
      "\n"
     ]
    }
   ],
   "source": [
    "for file in os.listdir('../../external_data/kaleido/'):\n",
    "    print(f'file: {file}')\n",
    "    \n",
    "    data = pd.read_pickle(f'../../external_data/kaleido/{file}')\n",
    "    scenarios = list(data.keys())\n",
    "    disagreements = {}\n",
    "    actions = ['supports', 'opposes', 'either']\n",
    "\n",
    "    for scenario in scenarios:\n",
    "        scenario_df = data[scenario]\n",
    "\n",
    "        if scenario_df.empty:\n",
    "            continue\n",
    "\n",
    "        outcomes = {}\n",
    "        beliefs = {}\n",
    "\n",
    "        for index, row in scenario_df.iterrows():\n",
    "            beliefs[row['value']] = row['relevant']\n",
    "\n",
    "            for action in actions:\n",
    "                if action not in outcomes:\n",
    "                    outcomes[action] = {}\n",
    "                outcomes[action][row['value']] = row[action]\n",
    "\n",
    "\n",
    "        gameState = pm.VoteGameState(beliefs, outcomes)\n",
    "\n",
    "        mec_decision = pm.run_mec(gameState, none_if_tie=True)\n",
    "        nbs_decision = pm.run_nash_bargain(gameState, none_if_tie=True)\n",
    "\n",
    "        if mec_decision != nbs_decision:\n",
    "            disagreements[scenario] = gameState\n",
    "\n",
    "    print(f'# disagreements: {len(disagreements)}')\n",
    "    print(f'# scenarios: {len(scenarios)}')\n",
    "    print(f'% disagree: {len(disagreements) / len(scenarios)}')\n",
    "    print()\n"
   ]
  },
  {
   "cell_type": "markdown",
   "id": "b0cb8148",
   "metadata": {},
   "source": [
    "### Drilling down on an example in data"
   ]
  },
  {
   "cell_type": "code",
   "execution_count": 42,
   "id": "8e40ffcb",
   "metadata": {},
   "outputs": [
    {
     "name": "stdout",
     "output_type": "stream",
     "text": [
      "If Owen's friend Jake is having trouble with his girlfriend, and Owen wants to help Jake feel better, is Owen sending flowers to Jake's girlfriend in Jake's name, hoping to patch things up moral?\n",
      "opposes\n",
      "supports\n"
     ]
    }
   ],
   "source": [
    "scenario = list(disagreements.keys())[6]\n",
    "print(scenario)\n",
    "print(pm.run_mec(disagreements[scenario], none_if_tie=True))\n",
    "print(pm.run_nash_bargain(disagreements[scenario], none_if_tie=True))"
   ]
  },
  {
   "cell_type": "code",
   "execution_count": null,
   "id": "864dad4a",
   "metadata": {},
   "outputs": [],
   "source": [
    "{\"beliefs\" : {\"Duty to protect Jake's emotional well-being\": 0.9939894080162048,\n",
    "              \"Jake's girlfriend's right to not be deceived\": 0.9939202070236206,\n",
    "              'Friendship/loyalty': 0.9850156903266907,\n",
    "              \"Duty to respect the boundaries of others' relationships\": 0.9793990254402161,\n",
    "              'Emotional well-being': 0.9613832831382751,\n",
    "               'Duty to help friends in need': 0.9584091305732727,\n",
    "               'Right to emotional support': 0.9294604659080505,\n",
    "               'Autonomy': 0.8827911019325256,\n",
    "               'Compassion': 0.8633553385734558,\n",
    "               'Right to privacy': 0.8515092730522156,\n",
    "               'Honesty': 0.8409119844436646},\n",
    "\"outcomes\" : {'supports': \n",
    "                    {\"Duty to protect Jake's emotional well-being\": 1.6430970951914787,\n",
    "                   \"Jake's girlfriend's right to not be deceived\": 1.0,\n",
    "                   'Friendship/loyalty': 1.738052198663354,\n",
    "                   \"Duty to respect the boundaries of others' relationships\": 1.0,\n",
    "                   'Emotional well-being': 1.8114324077032506,\n",
    "                   'Duty to help friends in need': 1.9162462325766683,\n",
    "                   'Right to emotional support': 1.5669531486928463,\n",
    "                   'Autonomy': 1.0,\n",
    "                   'Compassion': 1.9201710536144674,\n",
    "                   'Right to privacy': 1.0,\n",
    "                   'Honesty': 1.0},\n",
    "               'opposes': \n",
    "                   {\"Duty to protect Jake's emotional well-being\": 1.0,\n",
    "                   \"Jake's girlfriend's right to not be deceived\": 1.9759761763270944,\n",
    "                   'Friendship/loyalty': 1.0,\n",
    "                   \"Duty to respect the boundaries of others' relationships\": 1.9664880065247416,\n",
    "                   'Emotional well-being': 1.0,\n",
    "                   'Duty to help friends in need': 1.0,\n",
    "                   'Right to emotional support': 1.0,\n",
    "                   'Autonomy': 1.9628316410817206,\n",
    "                   'Compassion': 1.0,\n",
    "                   'Right to privacy': 1.975601093377918,\n",
    "                   'Honesty': 1.9307380486279726},\n",
    "               'either': \n",
    "                    {\"Duty to protect Jake's emotional well-being\": 1.239181987941265,\n",
    "                   \"Jake's girlfriend's right to not be deceived\": 1.0140749865677208,\n",
    "                   'Friendship/loyalty': 1.2352443132549524,\n",
    "                   \"Duty to respect the boundaries of others' relationships\": 1.0182461319491267,\n",
    "                   'Emotional well-being': 1.170298622455448,\n",
    "                   'Duty to help friends in need': 1.0707711474969983,\n",
    "                   'Right to emotional support': 1.315317865461111,\n",
    "                   'Autonomy': 1.0231415447779,\n",
    "                   'Compassion': 1.0659999488852918,\n",
    "                   'Right to privacy': 1.0170531100593507,\n",
    "                   'Honesty': 1.04481471888721}\n",
    "                }\n",
    "}"
   ]
  },
  {
   "cell_type": "code",
   "execution_count": 19,
   "id": "50a76c19",
   "metadata": {},
   "outputs": [
    {
     "data": {
      "text/html": [
       "<div>\n",
       "<style scoped>\n",
       "    .dataframe tbody tr th:only-of-type {\n",
       "        vertical-align: middle;\n",
       "    }\n",
       "\n",
       "    .dataframe tbody tr th {\n",
       "        vertical-align: top;\n",
       "    }\n",
       "\n",
       "    .dataframe thead th {\n",
       "        text-align: right;\n",
       "    }\n",
       "</style>\n",
       "<table border=\"1\" class=\"dataframe\">\n",
       "  <thead>\n",
       "    <tr style=\"text-align: right;\">\n",
       "      <th></th>\n",
       "      <th>action</th>\n",
       "      <th>vrd</th>\n",
       "      <th>value</th>\n",
       "      <th>relevant</th>\n",
       "      <th>supports</th>\n",
       "      <th>opposes</th>\n",
       "      <th>either</th>\n",
       "    </tr>\n",
       "  </thead>\n",
       "  <tbody>\n",
       "    <tr>\n",
       "      <th>0</th>\n",
       "      <td>In the context that Jordan woke up very early ...</td>\n",
       "      <td>Duty</td>\n",
       "      <td>Duty to care for one's own health and well-being</td>\n",
       "      <td>0.976914</td>\n",
       "      <td>0.987893</td>\n",
       "      <td>0.000192</td>\n",
       "      <td>0.011915</td>\n",
       "    </tr>\n",
       "    <tr>\n",
       "      <th>1</th>\n",
       "      <td>In the context that Jordan woke up very early ...</td>\n",
       "      <td>Duty</td>\n",
       "      <td>Duty to respect others' sleep schedules</td>\n",
       "      <td>0.975380</td>\n",
       "      <td>0.346086</td>\n",
       "      <td>0.134612</td>\n",
       "      <td>0.519302</td>\n",
       "    </tr>\n",
       "    <tr>\n",
       "      <th>2</th>\n",
       "      <td>In the context that Jordan woke up very early ...</td>\n",
       "      <td>Value</td>\n",
       "      <td>Self-care</td>\n",
       "      <td>0.946529</td>\n",
       "      <td>0.983202</td>\n",
       "      <td>0.000465</td>\n",
       "      <td>0.016333</td>\n",
       "    </tr>\n",
       "    <tr>\n",
       "      <th>4</th>\n",
       "      <td>In the context that Jordan woke up very early ...</td>\n",
       "      <td>Value</td>\n",
       "      <td>Convenience</td>\n",
       "      <td>0.915920</td>\n",
       "      <td>0.965940</td>\n",
       "      <td>0.003734</td>\n",
       "      <td>0.030327</td>\n",
       "    </tr>\n",
       "    <tr>\n",
       "      <th>6</th>\n",
       "      <td>In the context that Jordan woke up very early ...</td>\n",
       "      <td>Right</td>\n",
       "      <td>Autonomy</td>\n",
       "      <td>0.876289</td>\n",
       "      <td>0.902547</td>\n",
       "      <td>0.001103</td>\n",
       "      <td>0.096350</td>\n",
       "    </tr>\n",
       "    <tr>\n",
       "      <th>7</th>\n",
       "      <td>In the context that Jordan woke up very early ...</td>\n",
       "      <td>Value</td>\n",
       "      <td>Consideration for others</td>\n",
       "      <td>0.876127</td>\n",
       "      <td>0.453058</td>\n",
       "      <td>0.076815</td>\n",
       "      <td>0.470127</td>\n",
       "    </tr>\n",
       "    <tr>\n",
       "      <th>8</th>\n",
       "      <td>In the context that Jordan woke up very early ...</td>\n",
       "      <td>Value</td>\n",
       "      <td>Autonomy</td>\n",
       "      <td>0.791178</td>\n",
       "      <td>0.904109</td>\n",
       "      <td>0.001385</td>\n",
       "      <td>0.094507</td>\n",
       "    </tr>\n",
       "  </tbody>\n",
       "</table>\n",
       "</div>"
      ],
      "text/plain": [
       "                                              action    vrd  \\\n",
       "0  In the context that Jordan woke up very early ...   Duty   \n",
       "1  In the context that Jordan woke up very early ...   Duty   \n",
       "2  In the context that Jordan woke up very early ...  Value   \n",
       "4  In the context that Jordan woke up very early ...  Value   \n",
       "6  In the context that Jordan woke up very early ...  Right   \n",
       "7  In the context that Jordan woke up very early ...  Value   \n",
       "8  In the context that Jordan woke up very early ...  Value   \n",
       "\n",
       "                                              value  relevant  supports  \\\n",
       "0  Duty to care for one's own health and well-being  0.976914  0.987893   \n",
       "1           Duty to respect others' sleep schedules  0.975380  0.346086   \n",
       "2                                         Self-care  0.946529  0.983202   \n",
       "4                                       Convenience  0.915920  0.965940   \n",
       "6                                          Autonomy  0.876289  0.902547   \n",
       "7                          Consideration for others  0.876127  0.453058   \n",
       "8                                          Autonomy  0.791178  0.904109   \n",
       "\n",
       "    opposes    either  \n",
       "0  0.000192  0.011915  \n",
       "1  0.134612  0.519302  \n",
       "2  0.000465  0.016333  \n",
       "4  0.003734  0.030327  \n",
       "6  0.001103  0.096350  \n",
       "7  0.076815  0.470127  \n",
       "8  0.001385  0.094507  "
      ]
     },
     "execution_count": 19,
     "metadata": {},
     "output_type": "execute_result"
    }
   ],
   "source": [
    "# drilling down on a specific scenario\n",
    "data[scenarios[1]]"
   ]
  },
  {
   "cell_type": "code",
   "execution_count": null,
   "id": "7e10ddd5",
   "metadata": {},
   "outputs": [],
   "source": []
  }
 ],
 "metadata": {
  "kernelspec": {
   "display_name": "env-parliament",
   "language": "python",
   "name": "env-parliament"
  },
  "language_info": {
   "codemirror_mode": {
    "name": "ipython",
    "version": 3
   },
   "file_extension": ".py",
   "mimetype": "text/x-python",
   "name": "python",
   "nbconvert_exporter": "python",
   "pygments_lexer": "ipython3",
   "version": "3.11.6"
  }
 },
 "nbformat": 4,
 "nbformat_minor": 5
}
